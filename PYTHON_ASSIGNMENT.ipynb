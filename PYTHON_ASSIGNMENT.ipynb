{
  "nbformat": 4,
  "nbformat_minor": 0,
  "metadata": {
    "colab": {
      "provenance": []
    },
    "kernelspec": {
      "name": "python3",
      "display_name": "Python 3"
    },
    "language_info": {
      "name": "python"
    }
  },
  "cells": [
    {
      "cell_type": "markdown",
      "source": [
        "#Q.NO1 What is Python, and why is it popular?\n",
        "=>Python is a popular programming language because it's easy to learn, efficient, and can be used for many different tasks. It's used in web development, data science, machine learning, and more\n",
        "#Q.NO2 What is an interpreter in Python?\n",
        "=>A Python interpreter is a program that reads and executes Python code line by line.\n",
        "#Q.NO3 What are pre-defined keywords in Python?\n",
        "=>Python Keywords are some predefined and reserved words in Python that have special meanings.\n",
        "#Q.NO4 Can keywords be used as variable names.\n",
        "=>No, keywords cannot be used as variable names.\n",
        "#Q.NO5 What is mutability in Python?\n",
        "=>The ability to change the value or state of an object after it has been created.\n",
        "#Q.NO6 Why are lists mutable, but tuples are immutable?\n",
        "=> Tuples are more memory-efficient compared to lists. Tuples can't be changed after they're created, but lists can be modified.\n",
        "#Q.NO7 What is the difference between “==” and “is” operators in Python?\n",
        "=>Python identity operators (is) are used to compare objects based on their identity while the == operator checks for equality of values which means it evaluates whether the values of two objects are the same.\n",
        "#Q.NO8 What are logical operators in Python?\n",
        "=> AND NOT & OR\n",
        "#Q.NO9 What is type casting in Python?\n",
        "=>The process of changing a variable's data type to another data type in Python.\n",
        "#Q.NO10  What is the difference between implicit and explicit type casting?\n",
        "=>Main difference between implicit and explicit type casting is that implicit type casting happens automatically, while explicit type casting requires the programmer to intervene\n",
        "#Q.NO11 What is the purpose of conditional statements in PythoN?\n",
        "=>Conditional statements control the flow of a program by evaluating conditions and executing specific code based on the results\n",
        "#Q.NO12 How does the elif statement work?\n",
        "=> If the first condition is false, it moves on to the next “elif” statement to check if that condition is true.\n",
        "#Q.NO13 What is the difference between for and while loops?\n",
        "=> Or loop: Repeats a block of code a known number of times.\n",
        "While loop: Repeats a block of code an unknown number of times, until a condition is met.\n",
        "#Q.NO14 Describe a scenario where a while loop is more suitable than a for loop.\n",
        "=>When the condition for the code to keep running is more general, such as having a boolean flag that is only set to true when a certain condition is met in the code block."
      ],
      "metadata": {
        "id": "6zMxST8ME3Mm"
      }
    },
    {
      "cell_type": "markdown",
      "source": [
        "# PRACTICAL QUESTION"
      ],
      "metadata": {
        "id": "znMshaO7EZBA"
      }
    },
    {
      "cell_type": "code",
      "execution_count": null,
      "metadata": {
        "colab": {
          "base_uri": "https://localhost:8080/"
        },
        "id": "n1cy7eAMf7iN",
        "outputId": "156d8f42-f193-402c-c9ba-d4460407ff9e"
      },
      "outputs": [
        {
          "output_type": "stream",
          "name": "stdout",
          "text": [
            "hello world\n"
          ]
        }
      ],
      "source": [
        "#1 Write a Python program to print \"Hello, World!_\n",
        "\n",
        "print(\"hello world\")"
      ]
    },
    {
      "cell_type": "code",
      "source": [
        "#2 Write a Python program that displays your name and age\n",
        "\n",
        "print(input(\"what is your name\"))\n",
        "print(input(\"what is your age\"))"
      ],
      "metadata": {
        "colab": {
          "base_uri": "https://localhost:8080/"
        },
        "id": "MbjuSbargotY",
        "outputId": "118b43be-b9e5-481a-c623-97717a5d65f6"
      },
      "execution_count": null,
      "outputs": [
        {
          "output_type": "stream",
          "name": "stdout",
          "text": [
            "what is your namebhanu\n",
            "bhanu\n",
            "what is your age23\n",
            "23\n"
          ]
        }
      ]
    },
    {
      "cell_type": "code",
      "source": [
        "#3 Write code to print all the pre-defined keywords in Python using the keyword library\n",
        "import keyword\n",
        "print(keyword.kwlist)"
      ],
      "metadata": {
        "colab": {
          "base_uri": "https://localhost:8080/"
        },
        "id": "VGbx0Rj-hhcE",
        "outputId": "dcdd46a2-816d-485b-9bbe-fca9fdd3d041"
      },
      "execution_count": null,
      "outputs": [
        {
          "output_type": "stream",
          "name": "stdout",
          "text": [
            "['False', 'None', 'True', 'and', 'as', 'assert', 'async', 'await', 'break', 'class', 'continue', 'def', 'del', 'elif', 'else', 'except', 'finally', 'for', 'from', 'global', 'if', 'import', 'in', 'is', 'lambda', 'nonlocal', 'not', 'or', 'pass', 'raise', 'return', 'try', 'while', 'with', 'yield']\n"
          ]
        }
      ]
    },
    {
      "cell_type": "code",
      "source": [
        "#4 Write a program that checks if a given word is a Python keyword\n",
        "import keyword\n",
        "keyword.iskeyword(\"if\")"
      ],
      "metadata": {
        "colab": {
          "base_uri": "https://localhost:8080/"
        },
        "id": "dKU6CzqQiwvM",
        "outputId": "3e73ce76-87fb-4c3b-b901-99a468fcd81e"
      },
      "execution_count": null,
      "outputs": [
        {
          "output_type": "execute_result",
          "data": {
            "text/plain": [
              "True"
            ]
          },
          "metadata": {},
          "execution_count": 14
        }
      ]
    },
    {
      "cell_type": "code",
      "source": [
        "#5 Create a list and tuple in Python, and demonstrate how attempting to change an element works differently\n",
        "#for each\n",
        "list_num=(1,2,3,4,5,6)\n",
        "print(list_num)\n",
        "tuple_num=(1,2,3,4,5,6)\n",
        "print(tuple_num)"
      ],
      "metadata": {
        "colab": {
          "base_uri": "https://localhost:8080/"
        },
        "id": "a6B98TGCh9Hp",
        "outputId": "ff3c4c52-da67-4fd9-bbd5-763f14696d25"
      },
      "execution_count": null,
      "outputs": [
        {
          "output_type": "stream",
          "name": "stdout",
          "text": [
            "(1, 2, 3, 4, 5, 6)\n",
            "(1, 2, 3, 4, 5, 6)\n"
          ]
        }
      ]
    },
    {
      "cell_type": "code",
      "source": [
        "a=1\n",
        "b=3\n"
      ],
      "metadata": {
        "id": "-0-zeAn6pd2U"
      },
      "execution_count": null,
      "outputs": []
    },
    {
      "cell_type": "code",
      "source": [
        "#7and8 Write a function to demonstrate the behavior of mutable and immutable arguments\n",
        "list_cont=[1,2,3,4,\"hari\"]\n",
        "list_cont"
      ],
      "metadata": {
        "colab": {
          "base_uri": "https://localhost:8080/"
        },
        "id": "Nt-d5y4-4lrz",
        "outputId": "8465150e-c3c3-4cd4-bbcc-b0e362879b9b"
      },
      "execution_count": null,
      "outputs": [
        {
          "output_type": "execute_result",
          "data": {
            "text/plain": [
              "[1, 2, 3, 4, 'hari']"
            ]
          },
          "metadata": {},
          "execution_count": 6
        }
      ]
    },
    {
      "cell_type": "code",
      "source": [
        "list_cont[0]"
      ],
      "metadata": {
        "colab": {
          "base_uri": "https://localhost:8080/"
        },
        "id": "T222ePFM5wxa",
        "outputId": "90a6bda7-564a-44e1-c54a-637defd6a585"
      },
      "execution_count": null,
      "outputs": [
        {
          "output_type": "execute_result",
          "data": {
            "text/plain": [
              "1"
            ]
          },
          "metadata": {},
          "execution_count": 8
        }
      ]
    },
    {
      "cell_type": "code",
      "source": [
        "list_cont[0]=100\n",
        "list_cont"
      ],
      "metadata": {
        "colab": {
          "base_uri": "https://localhost:8080/"
        },
        "id": "A4770H_v5_bi",
        "outputId": "3895ab4b-cd32-4ffe-bcd9-7e2a14c01c7c"
      },
      "execution_count": null,
      "outputs": [
        {
          "output_type": "execute_result",
          "data": {
            "text/plain": [
              "[100, 2, 3, 4, 'hari']"
            ]
          },
          "metadata": {},
          "execution_count": 10
        }
      ]
    },
    {
      "cell_type": "code",
      "source": [
        "#immutable\n",
        "b=\"rohit\"\n",
        "b[0]\n",
        "b[0]=\"M\"\n"
      ],
      "metadata": {
        "colab": {
          "base_uri": "https://localhost:8080/",
          "height": 176
        },
        "id": "xT_cpBlT7PPy",
        "outputId": "667fc519-0fef-43e3-991e-6e74a128a675"
      },
      "execution_count": null,
      "outputs": [
        {
          "output_type": "error",
          "ename": "TypeError",
          "evalue": "'str' object does not support item assignment",
          "traceback": [
            "\u001b[0;31m---------------------------------------------------------------------------\u001b[0m",
            "\u001b[0;31mTypeError\u001b[0m                                 Traceback (most recent call last)",
            "\u001b[0;32m<ipython-input-14-ffe010b87db3>\u001b[0m in \u001b[0;36m<cell line: 4>\u001b[0;34m()\u001b[0m\n\u001b[1;32m      2\u001b[0m \u001b[0mb\u001b[0m\u001b[0;34m=\u001b[0m\u001b[0;34m\"rohit\"\u001b[0m\u001b[0;34m\u001b[0m\u001b[0;34m\u001b[0m\u001b[0m\n\u001b[1;32m      3\u001b[0m \u001b[0mb\u001b[0m\u001b[0;34m[\u001b[0m\u001b[0;36m0\u001b[0m\u001b[0;34m]\u001b[0m\u001b[0;34m\u001b[0m\u001b[0;34m\u001b[0m\u001b[0m\n\u001b[0;32m----> 4\u001b[0;31m \u001b[0mb\u001b[0m\u001b[0;34m[\u001b[0m\u001b[0;36m0\u001b[0m\u001b[0;34m]\u001b[0m\u001b[0;34m=\u001b[0m\u001b[0;34m\"M\"\u001b[0m\u001b[0;34m\u001b[0m\u001b[0;34m\u001b[0m\u001b[0m\n\u001b[0m",
            "\u001b[0;31mTypeError\u001b[0m: 'str' object does not support item assignment"
          ]
        }
      ]
    },
    {
      "cell_type": "code",
      "source": [
        "#9 Write a program to demonstrate the use of logical operators0\n",
        "False and False\n",
        "True or False\n",
        "not False\n",
        "False is False"
      ],
      "metadata": {
        "id": "qs6io3CQ8a8h",
        "colab": {
          "base_uri": "https://localhost:8080/"
        },
        "outputId": "00f8ddc2-6426-401c-c151-e606cea56e00"
      },
      "execution_count": null,
      "outputs": [
        {
          "output_type": "execute_result",
          "data": {
            "text/plain": [
              "True"
            ]
          },
          "metadata": {},
          "execution_count": 5
        }
      ]
    },
    {
      "cell_type": "code",
      "source": [
        "Class = [\"ram,hari,raju\"]\n",
        "\"harish\" not in Class"
      ],
      "metadata": {
        "colab": {
          "base_uri": "https://localhost:8080/"
        },
        "id": "I2Wg5O0z0YbH",
        "outputId": "50e7ec1e-479d-4445-e178-df55afaf0013"
      },
      "execution_count": null,
      "outputs": [
        {
          "output_type": "execute_result",
          "data": {
            "text/plain": [
              "True"
            ]
          },
          "metadata": {},
          "execution_count": 7
        }
      ]
    },
    {
      "cell_type": "code",
      "source": [
        "#10 Write a Python program to convert user input from string to integer, float, and boolean types.\n",
        "a=(1010.1)\n",
        "print(type(a))\n",
        "print(type(int(a)))\n",
        "\n"
      ],
      "metadata": {
        "colab": {
          "base_uri": "https://localhost:8080/"
        },
        "id": "lfJ7yOPF2E2H",
        "outputId": "d5e8daa2-dce9-48d8-f01b-9b1575837c31"
      },
      "execution_count": null,
      "outputs": [
        {
          "output_type": "stream",
          "name": "stdout",
          "text": [
            "<class 'float'>\n",
            "<class 'int'>\n"
          ]
        }
      ]
    },
    {
      "cell_type": "code",
      "source": [
        "a=True\n",
        "print(type(a))\n",
        "a=str(a)\n",
        "print(type(a))\n"
      ],
      "metadata": {
        "colab": {
          "base_uri": "https://localhost:8080/"
        },
        "id": "Mb3djYiw4D7h",
        "outputId": "e69c5779-85ca-4b9f-c35a-969ee4b4bae7"
      },
      "execution_count": null,
      "outputs": [
        {
          "output_type": "stream",
          "name": "stdout",
          "text": [
            "<class 'bool'>\n",
            "<class 'str'>\n"
          ]
        }
      ]
    },
    {
      "cell_type": "code",
      "source": [
        "#11 Write code to demonstrate type casting with list elements.\n",
        "a=\"10\"\n",
        "b=5\n",
        "print(type(a))\n",
        "a=int(a)\n",
        "print(a+b)"
      ],
      "metadata": {
        "colab": {
          "base_uri": "https://localhost:8080/"
        },
        "id": "zJ5K1i2_4d14",
        "outputId": "82bd0543-7e46-4167-975b-52b974f96649"
      },
      "execution_count": null,
      "outputs": [
        {
          "output_type": "stream",
          "name": "stdout",
          "text": [
            "<class 'str'>\n",
            "15\n"
          ]
        }
      ]
    },
    {
      "cell_type": "code",
      "source": [
        "#12 Write a program that checks if a number is positive, negative, or zero.\n",
        "\n",
        "num = int(input(\"Enter a number: \"))\n",
        "if num > 0:\n",
        "   print(\"Positive number\")\n",
        "elif num == 0:\n",
        "   print(\"Zero\")\n",
        "else:\n",
        "   print(\"Negative number\")\n"
      ],
      "metadata": {
        "colab": {
          "base_uri": "https://localhost:8080/"
        },
        "id": "KTKfRnvQ6YNa",
        "outputId": "cc88ae4c-8c49-4339-88ba-f2660d51b460"
      },
      "execution_count": null,
      "outputs": [
        {
          "output_type": "stream",
          "name": "stdout",
          "text": [
            "Enter a number: 1\n",
            "Positive number\n"
          ]
        }
      ]
    },
    {
      "cell_type": "code",
      "source": [
        "#13 Write a for loop to print numbers from 1 to 10.\n",
        "for a in range(10):\n",
        "  print(a)"
      ],
      "metadata": {
        "colab": {
          "base_uri": "https://localhost:8080/"
        },
        "id": "gk2yRBL37Qs5",
        "outputId": "26385897-6bc2-4dbb-a34d-327dcb25221b"
      },
      "execution_count": null,
      "outputs": [
        {
          "output_type": "stream",
          "name": "stdout",
          "text": [
            "0\n",
            "1\n",
            "2\n",
            "3\n",
            "4\n",
            "5\n",
            "6\n",
            "7\n",
            "8\n",
            "9\n"
          ]
        }
      ]
    },
    {
      "cell_type": "code",
      "source": [
        "#14 Write a Python program to find the sum of all even numbers between 1 and 50.\n",
        "num = int(input('Enter a number: '))\n",
        "sum = 0\n",
        "i = 0\n",
        "while i <= num:\n",
        "    if i % 2 == 0:\n",
        "        print(i)\n",
        "        sum+=i\n",
        "    i+=1\n",
        "print(\"Sum of all the even numbers is {sum}\")\n"
      ],
      "metadata": {
        "colab": {
          "base_uri": "https://localhost:8080/"
        },
        "id": "WzFVNwdv72_7",
        "outputId": "ad30a598-f516-492f-c740-ab8f89ffa405"
      },
      "execution_count": null,
      "outputs": [
        {
          "output_type": "stream",
          "name": "stdout",
          "text": [
            "Enter a number: 50\n",
            "0\n",
            "2\n",
            "4\n",
            "6\n",
            "8\n",
            "10\n",
            "12\n",
            "14\n",
            "16\n",
            "18\n",
            "20\n",
            "22\n",
            "24\n",
            "26\n",
            "28\n",
            "30\n",
            "32\n",
            "34\n",
            "36\n",
            "38\n",
            "40\n",
            "42\n",
            "44\n",
            "46\n",
            "48\n",
            "50\n",
            "Sum of all the even numbers is 650\n"
          ]
        }
      ]
    },
    {
      "cell_type": "code",
      "source": [
        "#15 Write a program to reverse a string using a while loop.\n",
        "name= str((input(\"Enter the name: \")))\n",
        "\n",
        "i = len(name)\n",
        "\n",
        "while i in range(len(name)) > 0:\n",
        "    print(name[i], end = '')\n",
        "    i = i - 1"
      ],
      "metadata": {
        "colab": {
          "base_uri": "https://localhost:8080/"
        },
        "id": "QAXFiJrC-zHo",
        "outputId": "ce87cc13-1666-4dea-89c8-d23190d3a549"
      },
      "execution_count": null,
      "outputs": [
        {
          "name": "stdout",
          "output_type": "stream",
          "text": [
            "Enter the name: bhanu pratap\n"
          ]
        }
      ]
    },
    {
      "cell_type": "code",
      "source": [
        "#16 Write a Python program to calculate the factorial of a number provided by the user using a while loop.\n",
        "n = int(input(\"Enter any number: \"))\n",
        "f = 1\n",
        "while n >= 1:\n",
        "    f *= n\n",
        "    n -= 1\n",
        "print(\"Factorial is\",f)"
      ],
      "metadata": {
        "colab": {
          "base_uri": "https://localhost:8080/"
        },
        "id": "EXtqWkit_PyF",
        "outputId": "d96ff015-3b80-4c08-e7f2-11d322bc3ff8"
      },
      "execution_count": null,
      "outputs": [
        {
          "output_type": "stream",
          "name": "stdout",
          "text": [
            "Enter any number: 4\n",
            "Factorial is 24\n"
          ]
        }
      ]
    }
  ]
}